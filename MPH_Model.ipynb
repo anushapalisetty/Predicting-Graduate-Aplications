{
 "cells": [
  {
   "cell_type": "code",
   "execution_count": 1,
   "metadata": {},
   "outputs": [],
   "source": [
    "import pandas as pd\n",
    "import numpy as np\n",
    "import matplotlib.pyplot as plt\n",
    "import random\n",
    "#from sklearn import tree\n",
    "from sklearn.ensemble import BaggingClassifier,AdaBoostClassifier,GradientBoostingClassifier,RandomForestClassifier\n",
    "from sklearn.tree import DecisionTreeClassifier\n",
    "from sklearn.model_selection import train_test_split,cross_val_score\n",
    "from sklearn.tree import export_graphviz\n",
    "from sklearn.preprocessing import MinMaxScaler,LabelEncoder\n",
    "from sklearn.feature_selection import VarianceThreshold\n",
    "import graphviz\n",
    "from sklearn import metrics\n",
    "from sklearn.linear_model import LogisticRegression\n",
    "from sklearn.neighbors import KNeighborsClassifier\n",
    "from sklearn.naive_bayes import GaussianNB\n",
    "from sklearn.svm import SVC,LinearSVC\n",
    "import seaborn as sns\n",
    "import re\n",
    "from pandas.api.types import CategoricalDtype\n",
    "from sklearn.model_selection import StratifiedShuffleSplit,KFold,StratifiedKFold\n",
    "from imblearn.over_sampling import SMOTE,SVMSMOTE\n",
    "from imblearn.ensemble import BalancedBaggingClassifier,BalancedRandomForestClassifier,RUSBoostClassifier,EasyEnsembleClassifier\n",
    "from sklearn.tree import DecisionTreeClassifier\n",
    "from imblearn.over_sampling import RandomOverSampler\n",
    "from imblearn.under_sampling import RandomUnderSampler"
   ]
  },
  {
   "cell_type": "code",
   "execution_count": 2,
   "metadata": {},
   "outputs": [],
   "source": [
    "from source_data import SourceData\n",
    "from PreProcessing import PreProcessing\n",
    "from Dimensionalty_Reduction import Dimensional_Reduction\n",
    "from Data_Modelling import DataModelling\n",
    "from Eval_Metrics import EvalMetrics\n"
   ]
  },
  {
   "cell_type": "code",
   "execution_count": 3,
   "metadata": {},
   "outputs": [],
   "source": [
    "pd.set_option('mode.chained_assignment',None)"
   ]
  },
  {
   "cell_type": "code",
   "execution_count": 4,
   "metadata": {},
   "outputs": [],
   "source": [
    "pp=PreProcessing()\n",
    "dr=Dimensional_Reduction()\n",
    "dm=DataModelling()\n",
    "em=EvalMetrics()"
   ]
  },
  {
   "cell_type": "code",
   "execution_count": 5,
   "metadata": {},
   "outputs": [
    {
     "name": "stderr",
     "output_type": "stream",
     "text": [
      "C:\\Users\\pavan\\anaconda3\\lib\\site-packages\\IPython\\core\\interactiveshell.py:3337: DtypeWarning: Columns (1758,1759,1977,1978,2047,2048,2104,2159) have mixed types.Specify dtype option on import or set low_memory=False.\n",
      "  if (await self.run_code(code, result,  async_=asy)):\n"
     ]
    }
   ],
   "source": [
    "qualitative_data=pp.readcsv(\"2020-06-10_all-qual-mph-data.csv\")\n",
    "admisn_data_2017=pp.readcsv(\"Admissions-Data-LP-2017.csv\")\n",
    "admisn_data_2018=pp.readcsv(\"Admissions-Data-LP-2018.csv\")\n",
    "admisn_data_2019=pp.readcsv(\"SP19 and FA19 Data file.csv\")\n",
    "qual_data=pp.readcsv('2020-07-15_aggregated-data.csv')\n",
    "new_data=pp.readcsv('Admissions-Data-for-LP.csv')"
   ]
  },
  {
   "cell_type": "code",
   "execution_count": 6,
   "metadata": {},
   "outputs": [],
   "source": [
    "pp.add_year(admisn_data_2017,2017)\n",
    "pp.add_year(admisn_data_2018,2018)\n",
    "pp.add_year(admisn_data_2019,2019)\n",
    "pp.add_year(new_data,2020)"
   ]
  },
  {
   "cell_type": "code",
   "execution_count": 7,
   "metadata": {},
   "outputs": [],
   "source": [
    "data_list=[admisn_data_2017,admisn_data_2018,admisn_data_2019]\n",
    "nd_list=[admisn_data_2017,admisn_data_2018,admisn_data_2019,new_data]"
   ]
  },
  {
   "cell_type": "code",
   "execution_count": 8,
   "metadata": {},
   "outputs": [],
   "source": [
    "common_cols=pp.get_common_cols(nd_list)\n",
    "common_data=pp.get_common_data(data_list,common_cols)\n",
    "nd_data=pp.get_common_data([new_data],common_cols)"
   ]
  },
  {
   "cell_type": "code",
   "execution_count": 9,
   "metadata": {},
   "outputs": [
    {
     "data": {
      "text/plain": [
       "(568, 561)"
      ]
     },
     "execution_count": 9,
     "metadata": {},
     "output_type": "execute_result"
    }
   ],
   "source": [
    "common_data.shape"
   ]
  },
  {
   "cell_type": "code",
   "execution_count": 10,
   "metadata": {},
   "outputs": [
    {
     "data": {
      "text/plain": [
       "(138, 561)"
      ]
     },
     "execution_count": 10,
     "metadata": {},
     "output_type": "execute_result"
    }
   ],
   "source": [
    "nd_data.shape"
   ]
  },
  {
   "cell_type": "code",
   "execution_count": 11,
   "metadata": {},
   "outputs": [],
   "source": [
    "## NULL Check in the first column of target label\n",
    "common_data=pp.check_null_col(common_data,\"decision_code\")\n",
    "nd_data=pp.check_null_col(nd_data,\"decision_code\") "
   ]
  },
  {
   "cell_type": "code",
   "execution_count": 12,
   "metadata": {},
   "outputs": [],
   "source": [
    "## Group Target Labels\n",
    "\n",
    "admitted_list=['Matriculated','Declined','Deferred','Admission Offered - awaiting applicant response',\n",
    "         'Declined Offer - applicant declined admission offer from program']\n",
    "incomplete_list=['Incomplete Application','Not Considered - application not considered']\n",
    "denied_list=['Denied - applicant denied admission','Denied/Rejected - applicant denied admission by program']\n",
    "\n",
    "\n",
    "## Calling the function\n",
    "pp.target_label(common_data,admitted_list,incomplete_list,denied_list)\n",
    "pp.target_label(nd_data,admitted_list,incomplete_list,denied_list)"
   ]
  },
  {
   "cell_type": "code",
   "execution_count": 13,
   "metadata": {},
   "outputs": [
    {
     "data": {
      "text/plain": [
       "array(['Admitted', 'Denied', 'Incomplete'], dtype=object)"
      ]
     },
     "execution_count": 13,
     "metadata": {},
     "output_type": "execute_result"
    }
   ],
   "source": [
    "common_data.decision_code_0.unique()"
   ]
  },
  {
   "cell_type": "code",
   "execution_count": 14,
   "metadata": {},
   "outputs": [],
   "source": [
    "def rem_incomplete(final_data):\n",
    "    final_data=final_data.drop(final_data[final_data.decision_code_0=='Incomplete'].index).reset_index()\n",
    "    category=['Denied','Admitted']\n",
    "    cat_type = CategoricalDtype(categories=category,ordered=True)\n",
    "    final_data['decision_code_0']=final_data['decision_code_0'].astype(cat_type).cat.codes\n",
    "    return final_data.drop('index',axis=1)"
   ]
  },
  {
   "cell_type": "code",
   "execution_count": 15,
   "metadata": {},
   "outputs": [],
   "source": [
    "common_data=rem_incomplete(common_data)\n",
    "nd_data=rem_incomplete(nd_data)"
   ]
  },
  {
   "cell_type": "code",
   "execution_count": 16,
   "metadata": {},
   "outputs": [
    {
     "data": {
      "text/plain": [
       "array([1, 0], dtype=int8)"
      ]
     },
     "execution_count": 16,
     "metadata": {},
     "output_type": "execute_result"
    }
   ],
   "source": [
    "nd_data.decision_code_0.unique()"
   ]
  },
  {
   "cell_type": "code",
   "execution_count": 17,
   "metadata": {},
   "outputs": [],
   "source": [
    "cols=common_data.filter(like='status').columns"
   ]
  },
  {
   "cell_type": "code",
   "execution_count": 18,
   "metadata": {},
   "outputs": [
    {
     "data": {
      "text/plain": [
       " 1    391\n",
       " 0     49\n",
       "-1     48\n",
       "Name: gre_status_0, dtype: int64"
      ]
     },
     "execution_count": 18,
     "metadata": {},
     "output_type": "execute_result"
    }
   ],
   "source": [
    "common_data[cols].apply(lambda x:x.astype('category').cat.codes).gre_status_0.value_counts()"
   ]
  },
  {
   "cell_type": "code",
   "execution_count": 19,
   "metadata": {},
   "outputs": [
    {
     "data": {
      "text/plain": [
       "Taken      391\n",
       "Planned     49\n",
       "Name: gre_status_0, dtype: int64"
      ]
     },
     "execution_count": 19,
     "metadata": {},
     "output_type": "execute_result"
    }
   ],
   "source": [
    "common_data[cols].gre_status_0.value_counts()"
   ]
  },
  {
   "cell_type": "code",
   "execution_count": 20,
   "metadata": {},
   "outputs": [
    {
     "data": {
      "text/plain": [
       "Taken      73\n",
       "Planned    12\n",
       "Name: gre_status_0, dtype: int64"
      ]
     },
     "execution_count": 20,
     "metadata": {},
     "output_type": "execute_result"
    }
   ],
   "source": [
    "nd_data[cols].gre_status_0.value_counts()"
   ]
  },
  {
   "cell_type": "code",
   "execution_count": 21,
   "metadata": {},
   "outputs": [
    {
     "data": {
      "text/html": [
       "<div>\n",
       "<style scoped>\n",
       "    .dataframe tbody tr th:only-of-type {\n",
       "        vertical-align: middle;\n",
       "    }\n",
       "\n",
       "    .dataframe tbody tr th {\n",
       "        vertical-align: top;\n",
       "    }\n",
       "\n",
       "    .dataframe thead th {\n",
       "        text-align: right;\n",
       "    }\n",
       "</style>\n",
       "<table border=\"1\" class=\"dataframe\">\n",
       "  <thead>\n",
       "    <tr style=\"text-align: right;\">\n",
       "      <th></th>\n",
       "      <th>gmat_status</th>\n",
       "      <th>gmat_official</th>\n",
       "      <th>gmat_date</th>\n",
       "      <th>gmat_quantitative</th>\n",
       "      <th>gmat_verbal</th>\n",
       "      <th>gmat_overall</th>\n",
       "      <th>gmat_writing_assessment</th>\n",
       "      <th>gmat_writing_assessment_percentile</th>\n",
       "      <th>gmat_id_number</th>\n",
       "      <th>gmat_reasoning</th>\n",
       "      <th>...</th>\n",
       "      <th>reference_state_4</th>\n",
       "      <th>reference_country_code_0</th>\n",
       "      <th>reference_country_code_1</th>\n",
       "      <th>reference_country_code_2</th>\n",
       "      <th>reference_country_code_3</th>\n",
       "      <th>reference_country_code_4</th>\n",
       "      <th>cas_id</th>\n",
       "      <th>year</th>\n",
       "      <th>decision_code_0</th>\n",
       "      <th>decision_code_1</th>\n",
       "    </tr>\n",
       "  </thead>\n",
       "  <tbody>\n",
       "    <tr>\n",
       "      <th>0</th>\n",
       "      <td>NaN</td>\n",
       "      <td>NaN</td>\n",
       "      <td>NaN</td>\n",
       "      <td>NaN</td>\n",
       "      <td>NaN</td>\n",
       "      <td>NaN</td>\n",
       "      <td>NaN</td>\n",
       "      <td>NaN</td>\n",
       "      <td>NaN</td>\n",
       "      <td>NaN</td>\n",
       "      <td>...</td>\n",
       "      <td>NaN</td>\n",
       "      <td>US</td>\n",
       "      <td>US</td>\n",
       "      <td>US</td>\n",
       "      <td>NaN</td>\n",
       "      <td>NaN</td>\n",
       "      <td>2174124752</td>\n",
       "      <td>2017</td>\n",
       "      <td>1</td>\n",
       "      <td>NaN</td>\n",
       "    </tr>\n",
       "    <tr>\n",
       "      <th>1</th>\n",
       "      <td>NaN</td>\n",
       "      <td>NaN</td>\n",
       "      <td>NaN</td>\n",
       "      <td>NaN</td>\n",
       "      <td>NaN</td>\n",
       "      <td>NaN</td>\n",
       "      <td>NaN</td>\n",
       "      <td>NaN</td>\n",
       "      <td>NaN</td>\n",
       "      <td>NaN</td>\n",
       "      <td>...</td>\n",
       "      <td>NaN</td>\n",
       "      <td>US</td>\n",
       "      <td>US</td>\n",
       "      <td>US</td>\n",
       "      <td>US</td>\n",
       "      <td>NaN</td>\n",
       "      <td>2979797677</td>\n",
       "      <td>2017</td>\n",
       "      <td>1</td>\n",
       "      <td>NaN</td>\n",
       "    </tr>\n",
       "    <tr>\n",
       "      <th>2</th>\n",
       "      <td>NaN</td>\n",
       "      <td>NaN</td>\n",
       "      <td>NaN</td>\n",
       "      <td>NaN</td>\n",
       "      <td>NaN</td>\n",
       "      <td>NaN</td>\n",
       "      <td>NaN</td>\n",
       "      <td>NaN</td>\n",
       "      <td>NaN</td>\n",
       "      <td>NaN</td>\n",
       "      <td>...</td>\n",
       "      <td>NaN</td>\n",
       "      <td>US</td>\n",
       "      <td>US</td>\n",
       "      <td>US</td>\n",
       "      <td>NaN</td>\n",
       "      <td>NaN</td>\n",
       "      <td>1060651414</td>\n",
       "      <td>2017</td>\n",
       "      <td>0</td>\n",
       "      <td>NaN</td>\n",
       "    </tr>\n",
       "    <tr>\n",
       "      <th>3</th>\n",
       "      <td>NaN</td>\n",
       "      <td>NaN</td>\n",
       "      <td>NaN</td>\n",
       "      <td>NaN</td>\n",
       "      <td>NaN</td>\n",
       "      <td>NaN</td>\n",
       "      <td>NaN</td>\n",
       "      <td>NaN</td>\n",
       "      <td>NaN</td>\n",
       "      <td>NaN</td>\n",
       "      <td>...</td>\n",
       "      <td>International</td>\n",
       "      <td>NI</td>\n",
       "      <td>NI</td>\n",
       "      <td>NaN</td>\n",
       "      <td>NI</td>\n",
       "      <td>NI</td>\n",
       "      <td>4104477543</td>\n",
       "      <td>2017</td>\n",
       "      <td>0</td>\n",
       "      <td>NaN</td>\n",
       "    </tr>\n",
       "    <tr>\n",
       "      <th>4</th>\n",
       "      <td>NaN</td>\n",
       "      <td>NaN</td>\n",
       "      <td>NaN</td>\n",
       "      <td>NaN</td>\n",
       "      <td>NaN</td>\n",
       "      <td>NaN</td>\n",
       "      <td>NaN</td>\n",
       "      <td>NaN</td>\n",
       "      <td>NaN</td>\n",
       "      <td>NaN</td>\n",
       "      <td>...</td>\n",
       "      <td>NaN</td>\n",
       "      <td>US</td>\n",
       "      <td>US</td>\n",
       "      <td>US</td>\n",
       "      <td>NaN</td>\n",
       "      <td>NaN</td>\n",
       "      <td>5848438001</td>\n",
       "      <td>2017</td>\n",
       "      <td>0</td>\n",
       "      <td>NaN</td>\n",
       "    </tr>\n",
       "  </tbody>\n",
       "</table>\n",
       "<p>5 rows × 561 columns</p>\n",
       "</div>"
      ],
      "text/plain": [
       "  gmat_status gmat_official gmat_date  gmat_quantitative  gmat_verbal  \\\n",
       "0         NaN           NaN       NaN                NaN          NaN   \n",
       "1         NaN           NaN       NaN                NaN          NaN   \n",
       "2         NaN           NaN       NaN                NaN          NaN   \n",
       "3         NaN           NaN       NaN                NaN          NaN   \n",
       "4         NaN           NaN       NaN                NaN          NaN   \n",
       "\n",
       "   gmat_overall  gmat_writing_assessment  gmat_writing_assessment_percentile  \\\n",
       "0           NaN                      NaN                                 NaN   \n",
       "1           NaN                      NaN                                 NaN   \n",
       "2           NaN                      NaN                                 NaN   \n",
       "3           NaN                      NaN                                 NaN   \n",
       "4           NaN                      NaN                                 NaN   \n",
       "\n",
       "   gmat_id_number  gmat_reasoning  ...  reference_state_4  \\\n",
       "0             NaN             NaN  ...                NaN   \n",
       "1             NaN             NaN  ...                NaN   \n",
       "2             NaN             NaN  ...                NaN   \n",
       "3             NaN             NaN  ...      International   \n",
       "4             NaN             NaN  ...                NaN   \n",
       "\n",
       "   reference_country_code_0  reference_country_code_1  \\\n",
       "0                        US                        US   \n",
       "1                        US                        US   \n",
       "2                        US                        US   \n",
       "3                        NI                        NI   \n",
       "4                        US                        US   \n",
       "\n",
       "   reference_country_code_2 reference_country_code_3 reference_country_code_4  \\\n",
       "0                        US                      NaN                      NaN   \n",
       "1                        US                       US                      NaN   \n",
       "2                        US                      NaN                      NaN   \n",
       "3                       NaN                       NI                       NI   \n",
       "4                        US                      NaN                      NaN   \n",
       "\n",
       "       cas_id  year decision_code_0 decision_code_1  \n",
       "0  2174124752  2017               1             NaN  \n",
       "1  2979797677  2017               1             NaN  \n",
       "2  1060651414  2017               0             NaN  \n",
       "3  4104477543  2017               0             NaN  \n",
       "4  5848438001  2017               0             NaN  \n",
       "\n",
       "[5 rows x 561 columns]"
      ]
     },
     "execution_count": 21,
     "metadata": {},
     "output_type": "execute_result"
    }
   ],
   "source": [
    "common_data.head()"
   ]
  },
  {
   "cell_type": "markdown",
   "metadata": {},
   "source": [
    "## Categorical Processing"
   ]
  },
  {
   "cell_type": "code",
   "execution_count": 22,
   "metadata": {},
   "outputs": [
    {
     "name": "stdout",
     "output_type": "stream",
     "text": [
      "(488, 378)\n",
      "(128, 367)\n"
     ]
    }
   ],
   "source": [
    "df_cat=common_data.select_dtypes(exclude=np.number)\n",
    "print(df_cat.shape)\n",
    "\n",
    "nd_cat=nd_data.select_dtypes(exclude=np.number)\n",
    "print(nd_cat.shape)\n"
   ]
  },
  {
   "cell_type": "code",
   "execution_count": 23,
   "metadata": {},
   "outputs": [],
   "source": [
    "df_cat=dr.drop_cat_columns(df_cat)\n",
    "nd_cat=dr.drop_cat_columns(nd_cat)"
   ]
  },
  {
   "cell_type": "code",
   "execution_count": 24,
   "metadata": {},
   "outputs": [],
   "source": [
    "df_cat=dr.num_months_avg(df_cat,\"volunteer\")\n",
    "df_cat=dr.num_months_avg(df_cat,\"research\")\n",
    "df_cat=dr.num_months_avg(df_cat,\"employment\")"
   ]
  },
  {
   "cell_type": "code",
   "execution_count": 25,
   "metadata": {},
   "outputs": [],
   "source": [
    "nd_cat=dr.num_months_avg(nd_cat,\"volunteer\")\n",
    "nd_cat=dr.num_months_avg(nd_cat,\"research\")\n",
    "nd_cat=dr.num_months_avg(nd_cat,\"employment\")"
   ]
  },
  {
   "cell_type": "code",
   "execution_count": 26,
   "metadata": {},
   "outputs": [],
   "source": [
    "col_list=df_cat.filter(like='date').columns\n",
    "df_cat[col_list]=pp.get_month(df_cat,col_list)\n",
    "\n",
    "col_list_nd=nd_cat.filter(like='date').columns\n",
    "nd_cat[col_list_nd]=pp.get_month(nd_cat,col_list_nd)"
   ]
  },
  {
   "cell_type": "code",
   "execution_count": 27,
   "metadata": {},
   "outputs": [],
   "source": [
    "a=df_cat.select_dtypes(exclude=np.number)\n",
    "col_list=a.columns\n",
    "df_cat[col_list]=a.apply(lambda x:x.astype('category').cat.codes)"
   ]
  },
  {
   "cell_type": "code",
   "execution_count": 28,
   "metadata": {},
   "outputs": [],
   "source": [
    "a=nd_cat.select_dtypes(exclude=np.number)\n",
    "col_list=a.columns\n",
    "nd_cat[col_list]=a.apply(lambda x:x.astype('category').cat.codes)"
   ]
  },
  {
   "cell_type": "markdown",
   "metadata": {},
   "source": [
    "## Numerical Preprocessing"
   ]
  },
  {
   "cell_type": "code",
   "execution_count": 29,
   "metadata": {},
   "outputs": [],
   "source": [
    "df_num=common_data._get_numeric_data()\n",
    "nd_num=nd_data._get_numeric_data()"
   ]
  },
  {
   "cell_type": "code",
   "execution_count": 30,
   "metadata": {},
   "outputs": [
    {
     "data": {
      "text/plain": [
       "(488, 183)"
      ]
     },
     "execution_count": 30,
     "metadata": {},
     "output_type": "execute_result"
    }
   ],
   "source": [
    "df_num.shape"
   ]
  },
  {
   "cell_type": "code",
   "execution_count": 31,
   "metadata": {},
   "outputs": [],
   "source": [
    "cols=df_num.columns[df_num.isnull().sum()==df_num.shape[0]]\n",
    "df_num=df_num.drop(cols,axis=1)"
   ]
  },
  {
   "cell_type": "code",
   "execution_count": 32,
   "metadata": {},
   "outputs": [],
   "source": [
    "cols=nd_num.columns[nd_num.isnull().sum()==nd_num.shape[0]]\n",
    "nd_num=nd_num.drop(cols,axis=1)"
   ]
  },
  {
   "cell_type": "code",
   "execution_count": 33,
   "metadata": {},
   "outputs": [],
   "source": [
    "df_num=dr.drop_cat_columns(df_num)\n",
    "nd_num=dr.drop_cat_columns(nd_num)"
   ]
  },
  {
   "cell_type": "code",
   "execution_count": 34,
   "metadata": {},
   "outputs": [],
   "source": [
    "df_num=dr.avg_data(df_num)"
   ]
  },
  {
   "cell_type": "code",
   "execution_count": 35,
   "metadata": {},
   "outputs": [],
   "source": [
    "nd_num=dr.avg_data(nd_num)"
   ]
  },
  {
   "cell_type": "code",
   "execution_count": 36,
   "metadata": {},
   "outputs": [
    {
     "data": {
      "text/plain": [
       "(488, 86)"
      ]
     },
     "execution_count": 36,
     "metadata": {},
     "output_type": "execute_result"
    }
   ],
   "source": [
    "df_num.shape"
   ]
  },
  {
   "cell_type": "markdown",
   "metadata": {},
   "source": [
    "## Reference Data"
   ]
  },
  {
   "cell_type": "code",
   "execution_count": null,
   "metadata": {},
   "outputs": [],
   "source": []
  },
  {
   "cell_type": "code",
   "execution_count": null,
   "metadata": {},
   "outputs": [],
   "source": []
  },
  {
   "cell_type": "markdown",
   "metadata": {},
   "source": [
    "## Concat admit data"
   ]
  },
  {
   "cell_type": "code",
   "execution_count": 38,
   "metadata": {},
   "outputs": [],
   "source": [
    "admisn_data=pd.concat([df_cat,df_num],axis=1)\n",
    "nd_admisn_data=pd.concat([nd_cat,nd_num],axis=1)"
   ]
  },
  {
   "cell_type": "code",
   "execution_count": 42,
   "metadata": {},
   "outputs": [],
   "source": [
    "final_data=df_num\n",
    "nd_admisn_data=nd_num"
   ]
  },
  {
   "cell_type": "code",
   "execution_count": 43,
   "metadata": {},
   "outputs": [
    {
     "name": "stdout",
     "output_type": "stream",
     "text": [
      "Shape of final_data is : (488, 86)\n",
      "Shape of nd_admisn_data is : (128, 82)\n"
     ]
    }
   ],
   "source": [
    "l=[final_data,nd_admisn_data]\n",
    "name=['final_data','nd_admisn_data']\n",
    "n=0\n",
    "for i in l:\n",
    "    print(f'Shape of {name[n]} is :', i.shape)\n",
    "    n+=1"
   ]
  },
  {
   "cell_type": "code",
   "execution_count": 44,
   "metadata": {},
   "outputs": [
    {
     "name": "stdout",
     "output_type": "stream",
     "text": [
      "After removing nulls:  (488, 58)\n",
      "After removing low variance features:  (488, 40)\n",
      "After dropping high correlated features:  (488, 23)\n"
     ]
    }
   ],
   "source": [
    "X,y,features=dr.thresholds(final_data,'decision_code_0',0.6,3,0.8)"
   ]
  },
  {
   "cell_type": "code",
   "execution_count": 45,
   "metadata": {},
   "outputs": [
    {
     "name": "stdout",
     "output_type": "stream",
     "text": [
      "After removing nulls:  (128, 58)\n",
      "After removing low variance features:  (128, 41)\n",
      "After dropping high correlated features:  (128, 23)\n"
     ]
    }
   ],
   "source": [
    "X_nd,y_nd,features_nd=dr.thresholds(nd_admisn_data,'decision_code_0',0.6,3,0.8)"
   ]
  },
  {
   "cell_type": "code",
   "execution_count": 46,
   "metadata": {},
   "outputs": [],
   "source": [
    "final_list=[X,X_nd]\n",
    "final_features=pp.get_common_cols(final_list)"
   ]
  },
  {
   "cell_type": "code",
   "execution_count": 47,
   "metadata": {},
   "outputs": [
    {
     "name": "stdout",
     "output_type": "stream",
     "text": [
      "Shape of final_data is : (488, 22)\n",
      "Shape of nd_admisn_data is : (128, 22)\n"
     ]
    }
   ],
   "source": [
    "l=[X[final_features],X_nd[final_features]]\n",
    "name=['final_data','nd_admisn_data']\n",
    "n=0\n",
    "for i in l:\n",
    "    print(f'Shape of {name[n]} is :', i.shape)\n",
    "    n+=1"
   ]
  },
  {
   "cell_type": "code",
   "execution_count": 48,
   "metadata": {},
   "outputs": [],
   "source": [
    "X=X[final_features]\n",
    "X_nd=X_nd[final_features]"
   ]
  },
  {
   "cell_type": "code",
   "execution_count": 49,
   "metadata": {},
   "outputs": [],
   "source": [
    "X=X.fillna(-1)\n",
    "X=dm.normalization(X)"
   ]
  },
  {
   "cell_type": "code",
   "execution_count": 50,
   "metadata": {},
   "outputs": [],
   "source": [
    "X_nd=X_nd.fillna(-1)\n",
    "X_nd=dm.normalization(X_nd)"
   ]
  },
  {
   "cell_type": "markdown",
   "metadata": {},
   "source": [
    "## Modelling"
   ]
  },
  {
   "cell_type": "markdown",
   "metadata": {},
   "source": [
    "##  Test Train Splitting"
   ]
  },
  {
   "cell_type": "code",
   "execution_count": 51,
   "metadata": {},
   "outputs": [],
   "source": [
    "def conf_matrix(y,pred):\n",
    "    ((tn, fp), (fn, tp)) = metrics.confusion_matrix(y, pred)\n",
    "    ((tnr,fpr),(fnr,tpr))= metrics.confusion_matrix(y, pred, \n",
    "            normalize='true')\n",
    "    return pd.DataFrame([[ f'TP = {tp} (TPR = {tpr:1.2%})',\n",
    "                          f'FN = {fn} (FNR = {fnr:1.2%})'],\n",
    "                         [ f'FP = {fp} (FPR = {fpr:1.2%})',\n",
    "                          f'TN = {tn} (TNR = {tnr:1.2%})']],\n",
    "            index=['True 1(Admitted)','True 0(Denied)'], \n",
    "            columns=[ 'Pred 1(Admitted as Admitted)','Pred 0(Denied as Denied)'])"
   ]
  },
  {
   "cell_type": "code",
   "execution_count": 52,
   "metadata": {},
   "outputs": [],
   "source": [
    "max_features= 0.1\n",
    "min_samples=0.3\n",
    "random_state=10\n",
    "depth_range=3"
   ]
  },
  {
   "cell_type": "code",
   "execution_count": 53,
   "metadata": {},
   "outputs": [],
   "source": [
    "ros = RandomOverSampler()\n",
    "X_ros, y_ros = ros.fit_resample(X,y)"
   ]
  },
  {
   "cell_type": "code",
   "execution_count": 54,
   "metadata": {},
   "outputs": [],
   "source": [
    "clf_ros,BGResult_ros=dm.gradient_booster(1,1000,100,0.15,depth_range,random_state,X_ros, y_ros,X_nd,y_nd,100,max_features,min_samples)"
   ]
  },
  {
   "cell_type": "code",
   "execution_count": 55,
   "metadata": {},
   "outputs": [
    {
     "data": {
      "text/plain": [
       "1    100\n",
       "0     28\n",
       "Name: decision_code_0, dtype: int64"
      ]
     },
     "execution_count": 55,
     "metadata": {},
     "output_type": "execute_result"
    }
   ],
   "source": [
    "y_nd.value_counts()"
   ]
  },
  {
   "cell_type": "code",
   "execution_count": 56,
   "metadata": {},
   "outputs": [
    {
     "data": {
      "text/plain": [
       "array([[15, 13],\n",
       "       [22, 78]], dtype=int64)"
      ]
     },
     "execution_count": 56,
     "metadata": {},
     "output_type": "execute_result"
    }
   ],
   "source": [
    "metrics.confusion_matrix(y_nd, clf_ros.predict(X_nd))"
   ]
  },
  {
   "cell_type": "code",
   "execution_count": 57,
   "metadata": {},
   "outputs": [
    {
     "data": {
      "text/html": [
       "<div>\n",
       "<style scoped>\n",
       "    .dataframe tbody tr th:only-of-type {\n",
       "        vertical-align: middle;\n",
       "    }\n",
       "\n",
       "    .dataframe tbody tr th {\n",
       "        vertical-align: top;\n",
       "    }\n",
       "\n",
       "    .dataframe thead th {\n",
       "        text-align: right;\n",
       "    }\n",
       "</style>\n",
       "<table border=\"1\" class=\"dataframe\">\n",
       "  <thead>\n",
       "    <tr style=\"text-align: right;\">\n",
       "      <th></th>\n",
       "      <th>True 1(Admitted)</th>\n",
       "      <th>True 0(Denied)</th>\n",
       "    </tr>\n",
       "  </thead>\n",
       "  <tbody>\n",
       "    <tr>\n",
       "      <th>Pred 1(Admitted as Admitted)</th>\n",
       "      <td>TP = 78 (TPR = 78.00%)</td>\n",
       "      <td>FP = 13 (FPR = 46.43%)</td>\n",
       "    </tr>\n",
       "    <tr>\n",
       "      <th>Pred 0(Denied as Denied)</th>\n",
       "      <td>FN = 22 (FNR = 22.00%)</td>\n",
       "      <td>TN = 15 (TNR = 53.57%)</td>\n",
       "    </tr>\n",
       "  </tbody>\n",
       "</table>\n",
       "</div>"
      ],
      "text/plain": [
       "                                    True 1(Admitted)          True 0(Denied)\n",
       "Pred 1(Admitted as Admitted)  TP = 78 (TPR = 78.00%)  FP = 13 (FPR = 46.43%)\n",
       "Pred 0(Denied as Denied)      FN = 22 (FNR = 22.00%)  TN = 15 (TNR = 53.57%)"
      ]
     },
     "execution_count": 57,
     "metadata": {},
     "output_type": "execute_result"
    }
   ],
   "source": [
    "gb_ros=clf_ros.predict(X_nd)\n",
    "conf_matrix(y_nd,gb_ros).T"
   ]
  },
  {
   "cell_type": "code",
   "execution_count": 58,
   "metadata": {},
   "outputs": [
    {
     "data": {
      "text/html": [
       "<div>\n",
       "<style scoped>\n",
       "    .dataframe tbody tr th:only-of-type {\n",
       "        vertical-align: middle;\n",
       "    }\n",
       "\n",
       "    .dataframe tbody tr th {\n",
       "        vertical-align: top;\n",
       "    }\n",
       "\n",
       "    .dataframe thead th {\n",
       "        text-align: right;\n",
       "    }\n",
       "</style>\n",
       "<table border=\"1\" class=\"dataframe\">\n",
       "  <thead>\n",
       "    <tr style=\"text-align: right;\">\n",
       "      <th></th>\n",
       "      <th>Metric Values</th>\n",
       "    </tr>\n",
       "  </thead>\n",
       "  <tbody>\n",
       "    <tr>\n",
       "      <th>TSS</th>\n",
       "      <td>0.315714</td>\n",
       "    </tr>\n",
       "    <tr>\n",
       "      <th>HSS</th>\n",
       "      <td>0.282971</td>\n",
       "    </tr>\n",
       "    <tr>\n",
       "      <th>F1</th>\n",
       "      <td>0.816754</td>\n",
       "    </tr>\n",
       "    <tr>\n",
       "      <th>FAR</th>\n",
       "      <td>0.464286</td>\n",
       "    </tr>\n",
       "    <tr>\n",
       "      <th>AUC</th>\n",
       "      <td>(0.7064285714285714, [0.0, 0.0, 0.0, 0.0357142...</td>\n",
       "    </tr>\n",
       "    <tr>\n",
       "      <th>ACCURACY</th>\n",
       "      <td>0.726562</td>\n",
       "    </tr>\n",
       "  </tbody>\n",
       "</table>\n",
       "</div>"
      ],
      "text/plain": [
       "                                              Metric Values\n",
       "TSS                                                0.315714\n",
       "HSS                                                0.282971\n",
       "F1                                                 0.816754\n",
       "FAR                                                0.464286\n",
       "AUC       (0.7064285714285714, [0.0, 0.0, 0.0, 0.0357142...\n",
       "ACCURACY                                           0.726562"
      ]
     },
     "execution_count": 58,
     "metadata": {},
     "output_type": "execute_result"
    }
   ],
   "source": [
    "M1=em.eval_metrics(clf_ros,X_nd,y_nd, gb_ros)\n",
    "M1=M1.rename(columns= {0:'Metric Values'})\n",
    "M1"
   ]
  },
  {
   "cell_type": "code",
   "execution_count": 52,
   "metadata": {},
   "outputs": [
    {
     "data": {
      "text/plain": [
       "array([[10, 18],\n",
       "       [11, 89]], dtype=int64)"
      ]
     },
     "execution_count": 52,
     "metadata": {},
     "output_type": "execute_result"
    }
   ],
   "source": [
    "metrics.confusion_matrix(y_nd, clf_ros.predict(X_nd))"
   ]
  },
  {
   "cell_type": "code",
   "execution_count": 53,
   "metadata": {},
   "outputs": [
    {
     "data": {
      "text/html": [
       "<div>\n",
       "<style scoped>\n",
       "    .dataframe tbody tr th:only-of-type {\n",
       "        vertical-align: middle;\n",
       "    }\n",
       "\n",
       "    .dataframe tbody tr th {\n",
       "        vertical-align: top;\n",
       "    }\n",
       "\n",
       "    .dataframe thead th {\n",
       "        text-align: right;\n",
       "    }\n",
       "</style>\n",
       "<table border=\"1\" class=\"dataframe\">\n",
       "  <thead>\n",
       "    <tr style=\"text-align: right;\">\n",
       "      <th></th>\n",
       "      <th>True 1(Admitted)</th>\n",
       "      <th>True 0(Denied)</th>\n",
       "    </tr>\n",
       "  </thead>\n",
       "  <tbody>\n",
       "    <tr>\n",
       "      <th>Pred 1(Admitted as Admitted)</th>\n",
       "      <td>TP = 89 (TPR = 89.00%)</td>\n",
       "      <td>FP = 18 (FPR = 64.29%)</td>\n",
       "    </tr>\n",
       "    <tr>\n",
       "      <th>Pred 0(Denied as Denied)</th>\n",
       "      <td>FN = 11 (FNR = 11.00%)</td>\n",
       "      <td>TN = 10 (TNR = 35.71%)</td>\n",
       "    </tr>\n",
       "  </tbody>\n",
       "</table>\n",
       "</div>"
      ],
      "text/plain": [
       "                                    True 1(Admitted)          True 0(Denied)\n",
       "Pred 1(Admitted as Admitted)  TP = 89 (TPR = 89.00%)  FP = 18 (FPR = 64.29%)\n",
       "Pred 0(Denied as Denied)      FN = 11 (FNR = 11.00%)  TN = 10 (TNR = 35.71%)"
      ]
     },
     "execution_count": 53,
     "metadata": {},
     "output_type": "execute_result"
    }
   ],
   "source": [
    "gb_ros=clf_ros.predict(X_nd)\n",
    "conf_matrix(y_nd,gb_ros).T"
   ]
  },
  {
   "cell_type": "code",
   "execution_count": 54,
   "metadata": {},
   "outputs": [
    {
     "data": {
      "text/html": [
       "<div>\n",
       "<style scoped>\n",
       "    .dataframe tbody tr th:only-of-type {\n",
       "        vertical-align: middle;\n",
       "    }\n",
       "\n",
       "    .dataframe tbody tr th {\n",
       "        vertical-align: top;\n",
       "    }\n",
       "\n",
       "    .dataframe thead th {\n",
       "        text-align: right;\n",
       "    }\n",
       "</style>\n",
       "<table border=\"1\" class=\"dataframe\">\n",
       "  <thead>\n",
       "    <tr style=\"text-align: right;\">\n",
       "      <th></th>\n",
       "      <th>Metric Values</th>\n",
       "    </tr>\n",
       "  </thead>\n",
       "  <tbody>\n",
       "    <tr>\n",
       "      <th>TSS</th>\n",
       "      <td>0.247143</td>\n",
       "    </tr>\n",
       "    <tr>\n",
       "      <th>HSS</th>\n",
       "      <td>0.271586</td>\n",
       "    </tr>\n",
       "    <tr>\n",
       "      <th>F1</th>\n",
       "      <td>0.859903</td>\n",
       "    </tr>\n",
       "    <tr>\n",
       "      <th>FAR</th>\n",
       "      <td>0.642857</td>\n",
       "    </tr>\n",
       "    <tr>\n",
       "      <th>AUC</th>\n",
       "      <td>(0.7471428571428571, [0.0, 0.0, 0.0, 0.0357142...</td>\n",
       "    </tr>\n",
       "    <tr>\n",
       "      <th>ACCURACY</th>\n",
       "      <td>0.773438</td>\n",
       "    </tr>\n",
       "  </tbody>\n",
       "</table>\n",
       "</div>"
      ],
      "text/plain": [
       "                                              Metric Values\n",
       "TSS                                                0.247143\n",
       "HSS                                                0.271586\n",
       "F1                                                 0.859903\n",
       "FAR                                                0.642857\n",
       "AUC       (0.7471428571428571, [0.0, 0.0, 0.0, 0.0357142...\n",
       "ACCURACY                                           0.773438"
      ]
     },
     "execution_count": 54,
     "metadata": {},
     "output_type": "execute_result"
    }
   ],
   "source": [
    "M1=em.eval_metrics(clf_ros,X_nd,y_nd, gb_ros)\n",
    "M1=M1.rename(columns= {0:'Metric Values'})\n",
    "M1"
   ]
  },
  {
   "cell_type": "code",
   "execution_count": 1,
   "metadata": {},
   "outputs": [
    {
     "ename": "NameError",
     "evalue": "name 'EvalMetrics' is not defined",
     "output_type": "error",
     "traceback": [
      "\u001b[1;31m---------------------------------------------------------------------------\u001b[0m",
      "\u001b[1;31mNameError\u001b[0m                                 Traceback (most recent call last)",
      "\u001b[1;32m<ipython-input-1-a4f4410c4fb4>\u001b[0m in \u001b[0;36m<module>\u001b[1;34m\u001b[0m\n\u001b[1;32m----> 1\u001b[1;33m \u001b[0mem\u001b[0m\u001b[1;33m=\u001b[0m\u001b[0mEvalMetrics\u001b[0m\u001b[1;33m(\u001b[0m\u001b[1;33m)\u001b[0m\u001b[1;33m\u001b[0m\u001b[1;33m\u001b[0m\u001b[0m\n\u001b[0m\u001b[0;32m      2\u001b[0m \u001b[0mroc_auc\u001b[0m\u001b[1;33m,\u001b[0m\u001b[0mfpr\u001b[0m\u001b[1;33m,\u001b[0m\u001b[0mtpr\u001b[0m\u001b[1;33m=\u001b[0m\u001b[0mem\u001b[0m\u001b[1;33m.\u001b[0m\u001b[0mroc_auc\u001b[0m\u001b[1;33m(\u001b[0m\u001b[0mclf_ros\u001b[0m\u001b[1;33m,\u001b[0m\u001b[0mX_nd\u001b[0m\u001b[1;33m,\u001b[0m\u001b[0my_nd\u001b[0m\u001b[1;33m)\u001b[0m\u001b[1;33m\u001b[0m\u001b[1;33m\u001b[0m\u001b[0m\n",
      "\u001b[1;31mNameError\u001b[0m: name 'EvalMetrics' is not defined"
     ]
    }
   ],
   "source": [
    "em=EvalMetrics()\n",
    "roc_auc,fpr,tpr=em.roc_auc(clf_ros,X_nd,y_nd)"
   ]
  },
  {
   "cell_type": "code",
   "execution_count": 57,
   "metadata": {},
   "outputs": [
    {
     "data": {
      "text/plain": [
       "0.7471428571428571"
      ]
     },
     "execution_count": 57,
     "metadata": {},
     "output_type": "execute_result"
    }
   ],
   "source": [
    "roc_auc"
   ]
  },
  {
   "cell_type": "code",
   "execution_count": 58,
   "metadata": {},
   "outputs": [
    {
     "data": {
      "image/png": "[encoded data removed]",
      "text/plain": [
       "<Figure size 432x288 with 1 Axes>"
      ]
     },
     "metadata": {
      "needs_background": "light"
     },
     "output_type": "display_data"
    }
   ],
   "source": [
    "lw = 2\n",
    "plt.plot(fpr, tpr,color='darkorange',lw=lw,label='ROC curve (area = %0.2f)'% roc_auc)\n",
    "plt.xlabel('FPR',fontsize=12)\n",
    "plt.ylabel('TPR',fontsize=12)\n",
    "plt.plot([0, 1], [0, 1], color='navy', linestyle='--')\n",
    "plt.title('ROC curve')\n",
    "plt.legend(loc=\"lower right\")\n",
    "plt.show()"
   ]
  },
  {
   "cell_type": "code",
   "execution_count": 59,
   "metadata": {},
   "outputs": [
    {
     "data": {
      "image/png": "[encoded data removed]",
      "text/plain": [
       "<Figure size 576x360 with 1 Axes>"
      ]
     },
     "metadata": {
      "needs_background": "light"
     },
     "output_type": "display_data"
    }
   ],
   "source": [
    "predtst=clf_ros.predict_proba(X_nd)[:,1]\n",
    "fpr, tpr, thresholds = metrics.roc_curve(y_nd, predtst)\n",
    "dfplot=pd.DataFrame({'Threshold':thresholds, \n",
    "        'False Positive Rate':fpr, \n",
    "        'False Negative Rate': 1.-tpr})\n",
    "ax=dfplot.plot(x='Threshold', y=['False Positive Rate',\n",
    "        'False Negative Rate'], figsize=(8,5))\n",
    "# ax.plot([0.035,0.035],[0,0.1])\n",
    "ax.set_xbound(0,1);\n",
    "ax.set_ybound(0,1)\n",
    "plt.title('FPR VS FNR')\n",
    "plt.legend(bbox_to_anchor=(1,1))\n",
    "plt.show()"
   ]
  },
  {
   "cell_type": "code",
   "execution_count": 61,
   "metadata": {},
   "outputs": [
    {
     "data": {
      "text/html": [
       "<div>\n",
       "<style scoped>\n",
       "    .dataframe tbody tr th:only-of-type {\n",
       "        vertical-align: middle;\n",
       "    }\n",
       "\n",
       "    .dataframe tbody tr th {\n",
       "        vertical-align: top;\n",
       "    }\n",
       "\n",
       "    .dataframe thead th {\n",
       "        text-align: right;\n",
       "    }\n",
       "</style>\n",
       "<table border=\"1\" class=\"dataframe\">\n",
       "  <thead>\n",
       "    <tr style=\"text-align: right;\">\n",
       "      <th></th>\n",
       "      <th>True 1(Admitted)</th>\n",
       "      <th>True 0(Denied)</th>\n",
       "    </tr>\n",
       "  </thead>\n",
       "  <tbody>\n",
       "    <tr>\n",
       "      <th>Pred 1(Admitted as Admitted)</th>\n",
       "      <td>TP = 68 (TPR = 68.00%)</td>\n",
       "      <td>FP = 9 (FPR = 32.14%)</td>\n",
       "    </tr>\n",
       "    <tr>\n",
       "      <th>Pred 0(Denied as Denied)</th>\n",
       "      <td>FN = 32 (FNR = 32.00%)</td>\n",
       "      <td>TN = 19 (TNR = 67.86%)</td>\n",
       "    </tr>\n",
       "  </tbody>\n",
       "</table>\n",
       "</div>"
      ],
      "text/plain": [
       "                                    True 1(Admitted)          True 0(Denied)\n",
       "Pred 1(Admitted as Admitted)  TP = 68 (TPR = 68.00%)   FP = 9 (FPR = 32.14%)\n",
       "Pred 0(Denied as Denied)      FN = 32 (FNR = 32.00%)  TN = 19 (TNR = 67.86%)"
      ]
     },
     "execution_count": 61,
     "metadata": {},
     "output_type": "execute_result"
    }
   ],
   "source": [
    "## X_only_num\n",
    "predtst=clf_ros.predict_proba(X_nd)[:,1]## X_only_num\n",
    "tuned_thresh = np.where(predtst > 0.95, 1, 0)\n",
    "conf_matrix(y_nd, tuned_thresh).T"
   ]
  },
  {
   "cell_type": "code",
   "execution_count": 181,
   "metadata": {},
   "outputs": [],
   "source": [
    "#y_score=clf.predict_proba(X_test)\n",
    "metrics.roc_auc_score(y_test, tuned_thresh)\n",
    "fpr, tpr, _ = metrics.roc_curve(y_test, tuned_thresh,pos_label=1)\n",
    "roc_auc = metrics.auc(fpr, tpr)\n",
    "#return roc_auc,fpr,tpr"
   ]
  },
  {
   "cell_type": "code",
   "execution_count": 63,
   "metadata": {},
   "outputs": [
    {
     "data": {
      "image/png": "[encoded data removed]",
      "text/plain": [
       "<Figure size 432x288 with 1 Axes>"
      ]
     },
     "metadata": {
      "needs_background": "light"
     },
     "output_type": "display_data"
    }
   ],
   "source": [
    "plt.plot(BGResult_ros['LevelLimit'],BGResult_ros['Score for Training'],label=\"Training\")\n",
    "plt.plot(BGResult_ros['LevelLimit'],BGResult_ros['Score for Testing'],label=\"Testing\")\n",
    "#plt.xticks(np.arange(0,100,10))\n",
    "plt.legend(bbox_to_anchor=(1, 1),labelspacing=1)\n",
    "plt.xlabel('Number of Boosting Stages')\n",
    "plt.ylabel('Mean Accuracy')\n",
    "plt.title('Boosting Gradient Train Vs Test')\n",
    "plt.show()"
   ]
  },
  {
   "cell_type": "markdown",
   "metadata": {},
   "source": [
    "# Appendix"
   ]
  },
  {
   "cell_type": "code",
   "execution_count": 110,
   "metadata": {},
   "outputs": [],
   "source": [
    "prob_Den=list(clf_ros.predict_proba(X_nd)[:,0].round(2))\n",
    "prob=list(clf_ros.predict_proba(X_nd)[:,1].round(2))"
   ]
  },
  {
   "cell_type": "code",
   "execution_count": 111,
   "metadata": {},
   "outputs": [],
   "source": [
    "gb_ros=clf_ros.predict(X_nd)"
   ]
  },
  {
   "cell_type": "code",
   "execution_count": 112,
   "metadata": {},
   "outputs": [],
   "source": [
    "p=pd.DataFrame(columns=['Admitted_Probabilty','Denied_Probability','Predicted_Decision','Decision'])"
   ]
  },
  {
   "cell_type": "code",
   "execution_count": 113,
   "metadata": {},
   "outputs": [],
   "source": [
    "p['Admitted_Probabilty']=prob\n",
    "p['Denied_Probability']=prob_Den\n",
    "p['Predicted_Decision']=gb_ros\n",
    "p['Decision']=y_nd"
   ]
  },
  {
   "cell_type": "code",
   "execution_count": 124,
   "metadata": {},
   "outputs": [
    {
     "data": {
      "text/html": [
       "<div>\n",
       "<style scoped>\n",
       "    .dataframe tbody tr th:only-of-type {\n",
       "        vertical-align: middle;\n",
       "    }\n",
       "\n",
       "    .dataframe tbody tr th {\n",
       "        vertical-align: top;\n",
       "    }\n",
       "\n",
       "    .dataframe thead th {\n",
       "        text-align: right;\n",
       "    }\n",
       "</style>\n",
       "<table border=\"1\" class=\"dataframe\">\n",
       "  <thead>\n",
       "    <tr style=\"text-align: right;\">\n",
       "      <th></th>\n",
       "      <th>Admitted_Probabilty</th>\n",
       "      <th>Denied_Probability</th>\n",
       "      <th>Predicted_Decision</th>\n",
       "      <th>Decision</th>\n",
       "    </tr>\n",
       "  </thead>\n",
       "  <tbody>\n",
       "    <tr>\n",
       "      <th>85</th>\n",
       "      <td>0.00</td>\n",
       "      <td>1.00</td>\n",
       "      <td>0</td>\n",
       "      <td>1</td>\n",
       "    </tr>\n",
       "    <tr>\n",
       "      <th>82</th>\n",
       "      <td>0.00</td>\n",
       "      <td>1.00</td>\n",
       "      <td>0</td>\n",
       "      <td>1</td>\n",
       "    </tr>\n",
       "    <tr>\n",
       "      <th>106</th>\n",
       "      <td>0.00</td>\n",
       "      <td>1.00</td>\n",
       "      <td>0</td>\n",
       "      <td>1</td>\n",
       "    </tr>\n",
       "    <tr>\n",
       "      <th>50</th>\n",
       "      <td>0.01</td>\n",
       "      <td>0.99</td>\n",
       "      <td>0</td>\n",
       "      <td>1</td>\n",
       "    </tr>\n",
       "    <tr>\n",
       "      <th>30</th>\n",
       "      <td>0.08</td>\n",
       "      <td>0.92</td>\n",
       "      <td>0</td>\n",
       "      <td>1</td>\n",
       "    </tr>\n",
       "    <tr>\n",
       "      <th>...</th>\n",
       "      <td>...</td>\n",
       "      <td>...</td>\n",
       "      <td>...</td>\n",
       "      <td>...</td>\n",
       "    </tr>\n",
       "    <tr>\n",
       "      <th>34</th>\n",
       "      <td>1.00</td>\n",
       "      <td>0.00</td>\n",
       "      <td>1</td>\n",
       "      <td>1</td>\n",
       "    </tr>\n",
       "    <tr>\n",
       "      <th>33</th>\n",
       "      <td>1.00</td>\n",
       "      <td>0.00</td>\n",
       "      <td>1</td>\n",
       "      <td>1</td>\n",
       "    </tr>\n",
       "    <tr>\n",
       "      <th>32</th>\n",
       "      <td>1.00</td>\n",
       "      <td>0.00</td>\n",
       "      <td>1</td>\n",
       "      <td>1</td>\n",
       "    </tr>\n",
       "    <tr>\n",
       "      <th>53</th>\n",
       "      <td>1.00</td>\n",
       "      <td>0.00</td>\n",
       "      <td>1</td>\n",
       "      <td>1</td>\n",
       "    </tr>\n",
       "    <tr>\n",
       "      <th>60</th>\n",
       "      <td>1.00</td>\n",
       "      <td>0.00</td>\n",
       "      <td>1</td>\n",
       "      <td>1</td>\n",
       "    </tr>\n",
       "  </tbody>\n",
       "</table>\n",
       "<p>100 rows × 4 columns</p>\n",
       "</div>"
      ],
      "text/plain": [
       "     Admitted_Probabilty  Denied_Probability  Predicted_Decision  Decision\n",
       "85                  0.00                1.00                   0         1\n",
       "82                  0.00                1.00                   0         1\n",
       "106                 0.00                1.00                   0         1\n",
       "50                  0.01                0.99                   0         1\n",
       "30                  0.08                0.92                   0         1\n",
       "..                   ...                 ...                 ...       ...\n",
       "34                  1.00                0.00                   1         1\n",
       "33                  1.00                0.00                   1         1\n",
       "32                  1.00                0.00                   1         1\n",
       "53                  1.00                0.00                   1         1\n",
       "60                  1.00                0.00                   1         1\n",
       "\n",
       "[100 rows x 4 columns]"
      ]
     },
     "execution_count": 124,
     "metadata": {},
     "output_type": "execute_result"
    }
   ],
   "source": [
    "p[p.Decision==1].sort_values('Admitted_Probabilty')"
   ]
  },
  {
   "cell_type": "code",
   "execution_count": null,
   "metadata": {},
   "outputs": [],
   "source": []
  },
  {
   "cell_type": "code",
   "execution_count": null,
   "metadata": {},
   "outputs": [],
   "source": []
  }
 ],
 "metadata": {
  "kernelspec": {
   "display_name": "Python 3",
   "language": "python",
   "name": "python3"
  },
  "language_info": {
   "codemirror_mode": {
    "name": "ipython",
    "version": 3
   },
   "file_extension": ".py",
   "mimetype": "text/x-python",
   "name": "python",
   "nbconvert_exporter": "python",
   "pygments_lexer": "ipython3",
   "version": "3.7.6"
  }
 },
 "nbformat": 4,
 "nbformat_minor": 4
}
